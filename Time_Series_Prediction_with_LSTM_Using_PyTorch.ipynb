{
  "cells": [
    {
      "cell_type": "markdown",
      "metadata": {
        "colab_type": "text",
        "id": "view-in-github"
      },
      "source": [
        "<a href=\"https://colab.research.google.com/github/spdin/time-series-prediction-lstm-pytorch/blob/master/Time_Series_Prediction_with_LSTM_Using_PyTorch.ipynb\" target=\"_parent\"><img src=\"https://colab.research.google.com/assets/colab-badge.svg\" alt=\"Open In Colab\"/></a>"
      ]
    },
    {
      "cell_type": "markdown",
      "metadata": {
        "colab_type": "text",
        "id": "6FIi8t8NUTEJ"
      },
      "source": [
        "# Time Series Prediction with LSTM Using PyTorch\n",
        "\n",
        "This kernel is based on *datasets* from\n",
        "\n",
        "[Time Series Forecasting with the Long Short-Term Memory Network in Python](https://machinelearningmastery.com/time-series-forecasting-long-short-term-memory-network-python/)\n",
        "\n",
        "[Time Series Prediction with LSTM Recurrent Neural Networks in Python with Keras](https://machinelearningmastery.com/time-series-prediction-lstm-recurrent-neural-networks-python-keras/)\n"
      ]
    },
    {
      "cell_type": "markdown",
      "metadata": {
        "colab_type": "text",
        "id": "S9DqRvEBU4aL"
      },
      "source": [
        "## Download Dataset"
      ]
    },
    {
      "cell_type": "code",
      "execution_count": null,
      "metadata": {
        "colab": {
          "base_uri": "https://localhost:8080/",
          "height": 224
        },
        "colab_type": "code",
        "id": "BKMrjozgU3I_",
        "outputId": "39bcec9e-e87d-43f1-9e8c-6509957b88de"
      },
      "outputs": [
        {
          "name": "stdout",
          "output_type": "stream",
          "text": [
            "--2019-07-08 06:45:33--  https://raw.githubusercontent.com/jbrownlee/Datasets/master/shampoo.csv\n",
            "Resolving raw.githubusercontent.com (raw.githubusercontent.com)... 151.101.0.133, 151.101.64.133, 151.101.128.133, ...\n",
            "Connecting to raw.githubusercontent.com (raw.githubusercontent.com)|151.101.0.133|:443... connected.\n",
            "HTTP request sent, awaiting response... 200 OK\n",
            "Length: 519 [text/plain]\n",
            "Saving to: ‘shampoo.csv’\n",
            "\n",
            "\rshampoo.csv           0%[                    ]       0  --.-KB/s               \rshampoo.csv         100%[===================>]     519  --.-KB/s    in 0s      \n",
            "\n",
            "2019-07-08 06:45:33 (98.4 MB/s) - ‘shampoo.csv’ saved [519/519]\n",
            "\n"
          ]
        }
      ],
      "source": [
        "!wget https://raw.githubusercontent.com/jbrownlee/Datasets/master/shampoo.csv"
      ]
    },
    {
      "cell_type": "code",
      "execution_count": null,
      "metadata": {
        "colab": {
          "base_uri": "https://localhost:8080/",
          "height": 224
        },
        "colab_type": "code",
        "id": "lA_En8ZAUSKG",
        "outputId": "99cdb3fa-e9e2-4a05-9c8e-a251271b3216"
      },
      "outputs": [
        {
          "name": "stdout",
          "output_type": "stream",
          "text": [
            "--2019-07-08 06:45:38--  https://raw.githubusercontent.com/jbrownlee/Datasets/master/airline-passengers.csv\n",
            "Resolving raw.githubusercontent.com (raw.githubusercontent.com)... 151.101.0.133, 151.101.64.133, 151.101.128.133, ...\n",
            "Connecting to raw.githubusercontent.com (raw.githubusercontent.com)|151.101.0.133|:443... connected.\n",
            "HTTP request sent, awaiting response... 200 OK\n",
            "Length: 2180 (2.1K) [text/plain]\n",
            "Saving to: ‘airline-passengers.csv’\n",
            "\n",
            "\rairline-passengers.   0%[                    ]       0  --.-KB/s               \rairline-passengers. 100%[===================>]   2.13K  --.-KB/s    in 0s      \n",
            "\n",
            "2019-07-08 06:45:38 (37.8 MB/s) - ‘airline-passengers.csv’ saved [2180/2180]\n",
            "\n"
          ]
        }
      ],
      "source": [
        "!wget https://raw.githubusercontent.com/jbrownlee/Datasets/master/airline-passengers.csv"
      ]
    },
    {
      "cell_type": "markdown",
      "metadata": {
        "colab_type": "text",
        "id": "xSItPJipBaZ5"
      },
      "source": [
        "## Library"
      ]
    },
    {
      "cell_type": "code",
      "execution_count": null,
      "metadata": {
        "colab": {},
        "colab_type": "code",
        "id": "wb-Z7wNKUJko"
      },
      "outputs": [],
      "source": [
        "import numpy as np\n",
        "import matplotlib.pyplot as plt\n",
        "import pandas as pd\n",
        "import torch\n",
        "import torch.nn as nn\n",
        "import pickle\n",
        "from sklearn.preprocessing import MinMaxScaler"
      ]
    },
    {
      "cell_type": "markdown",
      "metadata": {},
      "source": [
        "## Hyperparameters"
      ]
    },
    {
      "cell_type": "code",
      "execution_count": null,
      "metadata": {},
      "outputs": [],
      "source": [
        "\n",
        "# data\n",
        "seq_length = 4\n",
        "feature_range = (0, 1)\n",
        "\n",
        "# model\n",
        "num_epochs = 2000\n",
        "learning_rate = 0.01\n",
        "input_size = 1\n",
        "hidden_size = 2\n",
        "num_layers = 1\n",
        "num_future_steps = 1\n",
        "\n",
        "#general\n",
        "random_seed = 2023\n",
        "device = \"cuda\"\n",
        "epoch = 10\n",
        "batch_size = 64"
      ]
    },
    {
      "cell_type": "markdown",
      "metadata": {
        "colab_type": "text",
        "id": "e31mswiSBEEB"
      },
      "source": [
        "## Data Plot"
      ]
    },
    {
      "cell_type": "code",
      "execution_count": 289,
      "metadata": {
        "colab": {
          "base_uri": "https://localhost:8080/",
          "height": 269
        },
        "colab_type": "code",
        "id": "ooQPXSYhA_ps",
        "outputId": "5b7b33c9-a80c-429d-f8a5-5c8c79261b54"
      },
      "outputs": [
        {
          "data": {
            "image/png": "[encoded data removed]",
            "text/plain": [
              "<Figure size 432x288 with 1 Axes>"
            ]
          },
          "metadata": {
            "tags": []
          },
          "output_type": "display_data"
        }
      ],
      "source": [
        "training_set = pd.read_csv('airline-passengers.csv')\n",
        "#training_set = pd.read_csv('shampoo.csv')\n",
        "\n",
        "training_set = training_set.iloc[:,1:2].values\n",
        "\n",
        "plt.plot(training_set, label = 'Shampoo Sales Data')\n",
        "plt.show()"
      ]
    },
    {
      "cell_type": "markdown",
      "metadata": {
        "colab_type": "text",
        "id": "NabsV8O5BBd5"
      },
      "source": [
        "## Dataloading"
      ]
    },
    {
      "cell_type": "code",
      "execution_count": null,
      "metadata": {
        "colab": {},
        "colab_type": "code",
        "id": "vIWvJCpOVmwU"
      },
      "outputs": [],
      "source": [
        "def sliding_windows(data_X, data_Y, look_back, look_forward, stride = 1):\n",
        "    '''\n",
        "    data_X: input data, a dictionary of (machine_id, numpy array of shape (num_dates, len_feature_vector))\n",
        "    data_Y: output data, a dictionary of (machine_id, python_list of length num_dates)\n",
        "    look\n",
        "    type: can be \"AR\" or \"encoder_decoder\"\n",
        "    '''\n",
        "\n",
        "    x = []\n",
        "    y = []\n",
        "\n",
        "    assert len(data_X)  == len(data_Y), \"The length of data_X and data_Y must be equal\"\n",
        "    assert set(data_X.keys()) == set(data_Y.keys()), \"The keys of data_X and data_Y must be equal\"\n",
        "\n",
        "    for key, feature_vector_list in data_X.items():\n",
        "        for i in range(0, len(feature_vector_list)-look_back-look_forward+1, stride):\n",
        "            _x = feature_vector_list[i : (i+look_back)]\n",
        "            _y = data_Y[key][i+look_back : (i+look_back+look_forward)]\n",
        "            x.append(_x)\n",
        "            y.append(_y)\n",
        "\n",
        "    return np.array(x),np.array(y)\n",
        "\n",
        "with open('data_X', 'rb') as f:\n",
        "    data_X = pickle.load(f)\n",
        "\n",
        "    \n",
        "x, y = sliding_windows(training_data, training_data, seq_length)\n",
        "\n",
        "train_size = int(len(y) * 0.67)\n",
        "test_size = len(y) - train_size\n",
        "\n",
        "dataX = torch.Tensor(np.array(x))\n",
        "dataY = torch.Tensor(np.array(y))\n",
        "\n",
        "trainX = torch.Tensor(np.array(x[0:train_size]))\n",
        "trainY = torch.Tensor(np.array(y[0:train_size]))\n",
        "\n",
        "testX = torch.Tensor(np.array(x[train_size:len(x)]))\n",
        "testY = torch.Tensor(np.array(y[train_size:len(y)]))"
      ]
    },
    {
      "cell_type": "markdown",
      "metadata": {
        "colab_type": "text",
        "id": "--1LVbHOBSIy"
      },
      "source": [
        "## Model"
      ]
    },
    {
      "cell_type": "code",
      "execution_count": null,
      "metadata": {
        "colab": {},
        "colab_type": "code",
        "id": "_BcDEjcABRVz"
      },
      "outputs": [],
      "source": [
        "class LSTM(nn.Module):\n",
        "\n",
        "    def __init__(\n",
        "        self, \n",
        "        num_future_steps, \n",
        "        input_size,\n",
        "        hidden_size, \n",
        "        num_layers, \n",
        "        num_machine = 2000, \n",
        "        num_event = 300, \n",
        "        num_incident = 300,\n",
        "        num_ville = 300, \n",
        "        embedding_size = 10,\n",
        "        seq_length = 10,\n",
        "        bi_directional = False,\n",
        "        device = 'cpu'\n",
        "        ):\n",
        "        super(LSTM, self).__init__()\n",
        "        \n",
        "        ## create nn.embedding for each categorical variable\n",
        "        self.machine_embedding = nn.Embedding(num_machine, embedding_size)\n",
        "        self.event_embedding = nn.Embedding(num_event, embedding_size)\n",
        "        self.incident_embedding = nn.Embedding(num_incident, embedding_size)\n",
        "        self.ville_embedding = nn.Embedding(num_ville, embedding_size)\n",
        "\n",
        "        self.num_future_steps = num_future_steps\n",
        "        self.input_size = input_size\n",
        "        self.hidden_size = hidden_size\n",
        "        self.num_layers = num_layers\n",
        "        self.seq_length = seq_length\n",
        "        self.device = device\n",
        "        self.bi_directional = bi_directional\n",
        "\n",
        "\n",
        "        self.lstm = nn.LSTM(input_size=input_size, hidden_size=hidden_size,\n",
        "                            num_layers=num_layers, batch_first=True, bidirectional=bi_directional)\n",
        "        \n",
        "        self.fc = nn.Linear(hidden_size, num_future_steps)\n",
        "\n",
        "    def forward(self, x):\n",
        "        # x is a numpy array of shape (batch_size, seq_length, input_size)\n",
        "        # first 4 columns of 3th dimension are categorical variables \n",
        "        # with the following format:\n",
        "        # 1. machine index:  a number\n",
        "        # 2. event index: a list of numbers\n",
        "        # 3. incident index: a list of numbers\n",
        "        # 4. ville index: a number\n",
        "\n",
        "        # ============== generate final inputs ==============\n",
        "\n",
        "        # retrieve embedding for each categorical variable\n",
        "        machine_embedding = self.machine_embedding(x[:,:,0].long())\n",
        "        # for event, we do an average of the embedding of the list of numbers\n",
        "        event_embedding = self.event_embedding(x[:,:,1].long())\n",
        "        event_embedding = torch.mean(event_embedding, dim=2)\n",
        "        # for type_incidents, we do an average of the embedding of the list of numbers\n",
        "        incident_embedding = self.incident_embedding(x[:,:,2].long())\n",
        "        incident_embedding = torch.mean(incident_embedding, dim=2)\n",
        "        # ville\n",
        "        ville_embedding = self.ville_embedding(x[:,:,3].long())\n",
        "\n",
        "        # concatenate all embeddings with the rest of x and convert to tensor\n",
        "        x = torch.cat(( machine_embedding, event_embedding, incident_embedding, ville_embedding, x[:,:,4:]), dim=2)\n",
        "        # to device\n",
        "        x = x.to(self.device)\n",
        "\n",
        "        # ============== generate final inputs ==============\n",
        "\n",
        "        # ============== LSTM ==============\n",
        "        h_0 = torch.zeros(\n",
        "            self.num_layers, x.size(0), self.hidden_size)\n",
        "        \n",
        "        c_0 = torch.zeros(\n",
        "            self.num_layers, x.size(0), self.hidden_size)\n",
        "        \n",
        "        # Propagate input through LSTM\n",
        "        ula, (h_out, _) = self.lstm(x, (h_0, c_0))\n",
        "        # h_out.size() = (#layers*D, batch_size, hidden_size) \n",
        "        # for each batch, take the hidden state of the last layer\n",
        "        h_out = h_out[-1, :, :]\n",
        "        h_out = h_out.squeeze() \n",
        "        # h_out.size() = (batch_size, hidden_size)\n",
        "        logits = self.fc(h_out)\n",
        "        # ============== LSTM ==============\n",
        "        \n",
        "        return logits"
      ]
    },
    {
      "cell_type": "markdown",
      "metadata": {
        "colab_type": "text",
        "id": "tdzFI5GJBUF5"
      },
      "source": [
        "## Training"
      ]
    },
    {
      "cell_type": "code",
      "execution_count": 332,
      "metadata": {
        "colab": {
          "base_uri": "https://localhost:8080/",
          "height": 357
        },
        "colab_type": "code",
        "id": "a2vvHeFgVtCp",
        "outputId": "5fa2cd4c-dcc4-41aa-d7bc-cb16154ff134"
      },
      "outputs": [
        {
          "name": "stdout",
          "output_type": "stream",
          "text": [
            "Epoch: 0, loss: 0.86919\n",
            "Epoch: 100, loss: 0.01413\n",
            "Epoch: 200, loss: 0.00797\n",
            "Epoch: 300, loss: 0.00321\n",
            "Epoch: 400, loss: 0.00290\n",
            "Epoch: 500, loss: 0.00277\n",
            "Epoch: 600, loss: 0.00263\n",
            "Epoch: 700, loss: 0.00249\n",
            "Epoch: 800, loss: 0.00236\n",
            "Epoch: 900, loss: 0.00224\n",
            "Epoch: 1000, loss: 0.00213\n",
            "Epoch: 1100, loss: 0.00204\n",
            "Epoch: 1200, loss: 0.00197\n",
            "Epoch: 1300, loss: 0.00191\n",
            "Epoch: 1400, loss: 0.00186\n",
            "Epoch: 1500, loss: 0.00182\n",
            "Epoch: 1600, loss: 0.00179\n",
            "Epoch: 1700, loss: 0.00176\n",
            "Epoch: 1800, loss: 0.00173\n",
            "Epoch: 1900, loss: 0.00172\n"
          ]
        }
      ],
      "source": [
        "# set the random seed manually for reproducibility.\n",
        "np.random.seed(random_seed)\n",
        "torch.manual_seed(random_seed)\n",
        "if torch.cuda.is_available():\n",
        "    torch.cuda.manual_seed_all(random_seed)    \n",
        "    torch.cuda.manual_seed(random_seed)\n",
        "    torch.backends.cudnn.benchmark = False\n",
        "    torch.backends.cudnn.deterministic = True\n",
        "\n",
        "lstm = LSTM(num_future_steps, input_size, hidden_size, num_layers).to(device)\n",
        "lstm.train()\n",
        "criterion = torch.nn.BCEWithLogitsLoss( reduction='mean')\n",
        "optimizer = torch.optim.Adam(lstm.parameters(), lr=learning_rate) # adam optimizer with betas set to default values\n",
        "\n",
        "\n",
        "# Train the model\n",
        "for epoch in range(num_epochs):\n",
        "    lstm.train() \n",
        "    outputs = lstm(trainX)\n",
        "    optimizer.zero_grad()\n",
        "    \n",
        "    # obtain the loss function\n",
        "    loss = criterion(outputs, trainY)\n",
        "    \n",
        "    loss.backward()\n",
        "    \n",
        "    optimizer.step()\n",
        "    if epoch % 100 == 0:\n",
        "        print(\"Epoch: %d, loss: %1.5f\" % (epoch, loss.item()))"
      ]
    },
    {
      "cell_type": "markdown",
      "metadata": {
        "colab_type": "text",
        "id": "GyJ-Ry9_BWvP"
      },
      "source": [
        "## Testing for Shampoo Sales Dataset"
      ]
    },
    {
      "cell_type": "code",
      "execution_count": 281,
      "metadata": {
        "colab": {
          "base_uri": "https://localhost:8080/",
          "height": 294
        },
        "colab_type": "code",
        "id": "jFrPVG5sesWY",
        "outputId": "080fecbc-7cec-496d-e753-01371109f123"
      },
      "outputs": [
        {
          "data": {
            "image/png": "[encoded data removed]",
            "text/plain": [
              "<Figure size 432x288 with 1 Axes>"
            ]
          },
          "metadata": {
            "tags": []
          },
          "output_type": "display_data"
        }
      ],
      "source": [
        "lstm.eval()\n",
        "train_predict = lstm(dataX)\n",
        "\n",
        "data_predict = train_predict.data.numpy()\n",
        "dataY_plot = dataY.data.numpy()\n",
        "\n",
        "data_predict = sc.inverse_transform(data_predict)\n",
        "dataY_plot = sc.inverse_transform(dataY_plot)\n",
        "\n",
        "plt.axvline(x=train_size, c='r', linestyle='--')\n",
        "\n",
        "plt.plot(dataY_plot)\n",
        "plt.plot(data_predict)\n",
        "plt.suptitle('Time-Series Prediction')\n",
        "plt.show()"
      ]
    },
    {
      "cell_type": "markdown",
      "metadata": {
        "colab_type": "text",
        "id": "35ndYIwIKteS"
      },
      "source": [
        "## Testing for Airplane Passengers Dataset"
      ]
    },
    {
      "cell_type": "code",
      "execution_count": 333,
      "metadata": {
        "colab": {
          "base_uri": "https://localhost:8080/",
          "height": 294
        },
        "colab_type": "code",
        "id": "CKEzO1jzKydL",
        "outputId": "75b2711e-b4a5-419d-e996-2a8e4ea551b0"
      },
      "outputs": [
        {
          "data": {
            "image/png": "[encoded data removed]",
            "text/plain": [
              "<Figure size 432x288 with 1 Axes>"
            ]
          },
          "metadata": {
            "tags": []
          },
          "output_type": "display_data"
        }
      ],
      "source": [
        "lstm.eval()\n",
        "train_predict = lstm(dataX)\n",
        "\n",
        "data_predict = train_predict.data.numpy()\n",
        "dataY_plot = dataY.data.numpy()\n",
        "\n",
        "data_predict = sc.inverse_transform(data_predict)\n",
        "dataY_plot = sc.inverse_transform(dataY_plot)\n",
        "\n",
        "plt.axvline(x=train_size, c='r', linestyle='--')\n",
        "\n",
        "plt.plot(dataY_plot)\n",
        "plt.plot(data_predict)\n",
        "plt.suptitle('Time-Series Prediction')\n",
        "plt.show()"
      ]
    }
  ],
  "metadata": {
    "accelerator": "GPU",
    "colab": {
      "include_colab_link": true,
      "name": "Time Series Prediction with LSTM Using PyTorch",
      "provenance": [],
      "toc_visible": true,
      "version": "0.3.2"
    },
    "kernelspec": {
      "display_name": "Python 3.9.12 ('base')",
      "language": "python",
      "name": "python3"
    },
    "language_info": {
      "name": "python",
      "version": "3.9.12"
    },
    "vscode": {
      "interpreter": {
        "hash": "f8b40d688a12481f01eadf7380c47edd8a49484a47dba3db091451640e880c68"
      }
    }
  },
  "nbformat": 4,
  "nbformat_minor": 0
}
